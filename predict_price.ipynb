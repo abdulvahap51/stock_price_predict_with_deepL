{
 "cells": [
  {
   "cell_type": "code",
   "execution_count": 32,
   "metadata": {},
   "outputs": [],
   "source": [
    "import pandas as pd \n",
    "import numpy as np \n",
    "import yfinance as yf\n",
    "from datetime import datetime"
   ]
  },
  {
   "cell_type": "code",
   "execution_count": 33,
   "metadata": {},
   "outputs": [
    {
     "name": "stderr",
     "output_type": "stream",
     "text": [
      "[*********************100%***********************]  1 of 1 completed\n"
     ]
    },
    {
     "data": {
      "text/html": [
       "<div>\n",
       "<style scoped>\n",
       "    .dataframe tbody tr th:only-of-type {\n",
       "        vertical-align: middle;\n",
       "    }\n",
       "\n",
       "    .dataframe tbody tr th {\n",
       "        vertical-align: top;\n",
       "    }\n",
       "\n",
       "    .dataframe thead tr th {\n",
       "        text-align: left;\n",
       "    }\n",
       "\n",
       "    .dataframe thead tr:last-of-type th {\n",
       "        text-align: right;\n",
       "    }\n",
       "</style>\n",
       "<table border=\"1\" class=\"dataframe\">\n",
       "  <thead>\n",
       "    <tr>\n",
       "      <th>Price</th>\n",
       "      <th>Close</th>\n",
       "      <th>High</th>\n",
       "      <th>Low</th>\n",
       "      <th>Open</th>\n",
       "      <th>Volume</th>\n",
       "    </tr>\n",
       "    <tr>\n",
       "      <th>Ticker</th>\n",
       "      <th>ANHYT.IS</th>\n",
       "      <th>ANHYT.IS</th>\n",
       "      <th>ANHYT.IS</th>\n",
       "      <th>ANHYT.IS</th>\n",
       "      <th>ANHYT.IS</th>\n",
       "    </tr>\n",
       "    <tr>\n",
       "      <th>Date</th>\n",
       "      <th></th>\n",
       "      <th></th>\n",
       "      <th></th>\n",
       "      <th></th>\n",
       "      <th></th>\n",
       "    </tr>\n",
       "  </thead>\n",
       "  <tbody>\n",
       "    <tr>\n",
       "      <th>2000-05-10</th>\n",
       "      <td>5.386124</td>\n",
       "      <td>5.565662</td>\n",
       "      <td>5.116818</td>\n",
       "      <td>5.386124</td>\n",
       "      <td>115718</td>\n",
       "    </tr>\n",
       "    <tr>\n",
       "      <th>2000-05-11</th>\n",
       "      <td>5.386124</td>\n",
       "      <td>5.386124</td>\n",
       "      <td>5.027049</td>\n",
       "      <td>5.386124</td>\n",
       "      <td>53148</td>\n",
       "    </tr>\n",
       "    <tr>\n",
       "      <th>2000-05-12</th>\n",
       "      <td>5.206588</td>\n",
       "      <td>5.386125</td>\n",
       "      <td>5.206588</td>\n",
       "      <td>5.206588</td>\n",
       "      <td>28085</td>\n",
       "    </tr>\n",
       "    <tr>\n",
       "      <th>2000-05-15</th>\n",
       "      <td>5.206588</td>\n",
       "      <td>5.206588</td>\n",
       "      <td>5.206588</td>\n",
       "      <td>5.206588</td>\n",
       "      <td>0</td>\n",
       "    </tr>\n",
       "    <tr>\n",
       "      <th>2000-05-16</th>\n",
       "      <td>5.027049</td>\n",
       "      <td>5.206587</td>\n",
       "      <td>4.937281</td>\n",
       "      <td>5.027049</td>\n",
       "      <td>29195</td>\n",
       "    </tr>\n",
       "  </tbody>\n",
       "</table>\n",
       "</div>"
      ],
      "text/plain": [
       "Price          Close      High       Low      Open   Volume\n",
       "Ticker      ANHYT.IS  ANHYT.IS  ANHYT.IS  ANHYT.IS ANHYT.IS\n",
       "Date                                                       \n",
       "2000-05-10  5.386124  5.565662  5.116818  5.386124   115718\n",
       "2000-05-11  5.386124  5.386124  5.027049  5.386124    53148\n",
       "2000-05-12  5.206588  5.386125  5.206588  5.206588    28085\n",
       "2000-05-15  5.206588  5.206588  5.206588  5.206588        0\n",
       "2000-05-16  5.027049  5.206587  4.937281  5.027049    29195"
      ]
     },
     "execution_count": 33,
     "metadata": {},
     "output_type": "execute_result"
    }
   ],
   "source": [
    "# get the stock data\n",
    "df = yf.download('ANHYT.IS', start='2000-01-01', end=datetime.now())\n",
    "\n",
    "df.head()"
   ]
  },
  {
   "cell_type": "code",
   "execution_count": 34,
   "metadata": {},
   "outputs": [
    {
     "data": {
      "text/plain": [
       "6087"
      ]
     },
     "execution_count": 34,
     "metadata": {},
     "output_type": "execute_result"
    }
   ],
   "source": [
    "# Create a new dataframe with only the 'Close column \n",
    "data = df[['Close']]\n",
    "# Convert the dataframe to a numpy array\n",
    "\n",
    "dataset = data.values\n",
    "# Get the number of rows to train the model on\n",
    "training_data_len = int(np.ceil( len(dataset) * .95 ))\n",
    "\n",
    "training_data_len"
   ]
  },
  {
   "cell_type": "code",
   "execution_count": 35,
   "metadata": {},
   "outputs": [
    {
     "data": {
      "text/plain": [
       "array([[0.04008398],\n",
       "       [0.04008398],\n",
       "       [0.0387333 ],\n",
       "       ...,\n",
       "       [0.74349596],\n",
       "       [0.70824225],\n",
       "       [0.69056291]])"
      ]
     },
     "execution_count": 35,
     "metadata": {},
     "output_type": "execute_result"
    }
   ],
   "source": [
    "from sklearn.preprocessing import MinMaxScaler\n",
    "#scaled data 0 to 1 \n",
    "scaler = MinMaxScaler(feature_range=(0,1))\n",
    "scaled_data = scaler.fit_transform(dataset)\n",
    "\n",
    "scaled_data"
   ]
  },
  {
   "cell_type": "code",
   "execution_count": 36,
   "metadata": {},
   "outputs": [
    {
     "name": "stdout",
     "output_type": "stream",
     "text": [
      "[array([0.04008398, 0.04008398, 0.0387333 , 0.0387333 , 0.03738261,\n",
      "       0.03670727, 0.03468124, 0.03468124, 0.03670727, 0.03670727,\n",
      "       0.03670727, 0.03670727, 0.04075932, 0.04075932, 0.04075932,\n",
      "       0.04075932, 0.04075932, 0.04008398, 0.04008398, 0.04008398,\n",
      "       0.04008398, 0.04008398, 0.04075932, 0.03940864, 0.03805795,\n",
      "       0.03805795, 0.03535659, 0.0340059 , 0.0340059 , 0.03468124,\n",
      "       0.03468124, 0.0340059 , 0.0340059 , 0.0340059 , 0.03265521,\n",
      "       0.03265521, 0.03299289, 0.0316422 , 0.03265521, 0.03299289,\n",
      "       0.03231755, 0.03299289, 0.03197988, 0.03197988, 0.03197988,\n",
      "       0.03130454, 0.03096686, 0.02961618, 0.02894084, 0.02860317,\n",
      "       0.02860317, 0.02894084, 0.02995384, 0.03029152, 0.02995384,\n",
      "       0.03130454, 0.03197988, 0.03130454, 0.03062919, 0.03062919])]\n",
      "[0.030629191094331494]\n",
      "\n",
      "[array([0.04008398, 0.04008398, 0.0387333 , 0.0387333 , 0.03738261,\n",
      "       0.03670727, 0.03468124, 0.03468124, 0.03670727, 0.03670727,\n",
      "       0.03670727, 0.03670727, 0.04075932, 0.04075932, 0.04075932,\n",
      "       0.04075932, 0.04075932, 0.04008398, 0.04008398, 0.04008398,\n",
      "       0.04008398, 0.04008398, 0.04075932, 0.03940864, 0.03805795,\n",
      "       0.03805795, 0.03535659, 0.0340059 , 0.0340059 , 0.03468124,\n",
      "       0.03468124, 0.0340059 , 0.0340059 , 0.0340059 , 0.03265521,\n",
      "       0.03265521, 0.03299289, 0.0316422 , 0.03265521, 0.03299289,\n",
      "       0.03231755, 0.03299289, 0.03197988, 0.03197988, 0.03197988,\n",
      "       0.03130454, 0.03096686, 0.02961618, 0.02894084, 0.02860317,\n",
      "       0.02860317, 0.02894084, 0.02995384, 0.03029152, 0.02995384,\n",
      "       0.03130454, 0.03197988, 0.03130454, 0.03062919, 0.03062919]), array([0.04008398, 0.0387333 , 0.0387333 , 0.03738261, 0.03670727,\n",
      "       0.03468124, 0.03468124, 0.03670727, 0.03670727, 0.03670727,\n",
      "       0.03670727, 0.04075932, 0.04075932, 0.04075932, 0.04075932,\n",
      "       0.04075932, 0.04008398, 0.04008398, 0.04008398, 0.04008398,\n",
      "       0.04008398, 0.04075932, 0.03940864, 0.03805795, 0.03805795,\n",
      "       0.03535659, 0.0340059 , 0.0340059 , 0.03468124, 0.03468124,\n",
      "       0.0340059 , 0.0340059 , 0.0340059 , 0.03265521, 0.03265521,\n",
      "       0.03299289, 0.0316422 , 0.03265521, 0.03299289, 0.03231755,\n",
      "       0.03299289, 0.03197988, 0.03197988, 0.03197988, 0.03130454,\n",
      "       0.03096686, 0.02961618, 0.02894084, 0.02860317, 0.02860317,\n",
      "       0.02894084, 0.02995384, 0.03029152, 0.02995384, 0.03130454,\n",
      "       0.03197988, 0.03130454, 0.03062919, 0.03062919, 0.03062919])]\n",
      "[0.030629191094331494, 0.030291521404518348]\n",
      "\n"
     ]
    }
   ],
   "source": [
    "\n",
    "# Create the training data set \n",
    "# Create the scaled training data set\n",
    "train_data = scaled_data[0:int(training_data_len), :]\n",
    "# Split the data into x_train and y_train data sets\n",
    "x_train = []\n",
    "y_train = []\n",
    "\n",
    "for i in range(60, len(train_data)):\n",
    "    x_train.append(train_data[i-60:i, 0])\n",
    "    y_train.append(train_data[i, 0])\n",
    "    if i<= 61:\n",
    "        print(x_train)\n",
    "        print(y_train)\n",
    "        print()\n",
    "        \n",
    "# Convert the x_train and y_train to numpy arrays \n",
    "x_train, y_train = np.array(x_train), np.array(y_train)\n",
    "\n",
    "# Reshape the data\n",
    "x_train = np.reshape(x_train, (x_train.shape[0], x_train.shape[1], 1))\n",
    "# x_train.shape"
   ]
  },
  {
   "cell_type": "code",
   "execution_count": 37,
   "metadata": {},
   "outputs": [
    {
     "name": "stderr",
     "output_type": "stream",
     "text": [
      "c:\\Users\\abdul\\anaconda3\\Lib\\site-packages\\keras\\src\\layers\\rnn\\rnn.py:200: UserWarning: Do not pass an `input_shape`/`input_dim` argument to a layer. When using Sequential models, prefer using an `Input(shape)` object as the first layer in the model instead.\n",
      "  super().__init__(**kwargs)\n"
     ]
    },
    {
     "name": "stdout",
     "output_type": "stream",
     "text": [
      "\u001b[1m6027/6027\u001b[0m \u001b[32m━━━━━━━━━━━━━━━━━━━━\u001b[0m\u001b[37m\u001b[0m \u001b[1m94s\u001b[0m 15ms/step - loss: 2.1350e-04\n"
     ]
    },
    {
     "data": {
      "text/plain": [
       "<keras.src.callbacks.history.History at 0x1e6fb02a480>"
      ]
     },
     "execution_count": 37,
     "metadata": {},
     "output_type": "execute_result"
    }
   ],
   "source": [
    "from keras.models import Sequential\n",
    "from keras.layers import Dense, LSTM\n",
    "\n",
    "# Build the LSTM model\n",
    "model = Sequential()\n",
    "model.add(LSTM(128, return_sequences=True, input_shape= (x_train.shape[1], 1)))\n",
    "model.add(LSTM(64, return_sequences=False))\n",
    "model.add(Dense(25))\n",
    "model.add(Dense(1))\n",
    "\n",
    "# Compile the model\n",
    "model.compile(optimizer='adam', loss='mean_squared_error')\n",
    "\n",
    "# Train the model\n",
    "model.fit(x_train, y_train, batch_size=1, epochs=1)\n"
   ]
  },
  {
   "cell_type": "code",
   "execution_count": 38,
   "metadata": {},
   "outputs": [
    {
     "name": "stdout",
     "output_type": "stream",
     "text": [
      "\u001b[1m10/10\u001b[0m \u001b[32m━━━━━━━━━━━━━━━━━━━━\u001b[0m\u001b[37m\u001b[0m \u001b[1m0s\u001b[0m 16ms/step\n"
     ]
    },
    {
     "data": {
      "text/plain": [
       "7.706461934066894"
      ]
     },
     "execution_count": 38,
     "metadata": {},
     "output_type": "execute_result"
    }
   ],
   "source": [
    "# Create the testing data set\n",
    "# Create a new array containing scaled values from index 1543 to 2002 \n",
    "test_data = scaled_data[training_data_len - 60: , :]\n",
    "# Create the data sets x_test and y_test\n",
    "x_test = []\n",
    "y_test = dataset[training_data_len:, :]\n",
    "for i in range(60, len(test_data)):\n",
    "    x_test.append(test_data[i-60:i, 0])\n",
    "    \n",
    "# Convert the data to a numpy array\n",
    "x_test = np.array(x_test)\n",
    "\n",
    "# Reshape the data\n",
    "x_test = np.reshape(x_test, (x_test.shape[0], x_test.shape[1], 1 ))\n",
    "\n",
    "# Get the models predicted price values \n",
    "predictions = model.predict(x_test)\n",
    "predictions = scaler.inverse_transform(predictions)\n",
    "\n",
    "# Get the root mean squared error (RMSE)\n",
    "rmse = np.sqrt(np.mean(((predictions - y_test) ** 2)))\n",
    "rmse"
   ]
  },
  {
   "cell_type": "code",
   "execution_count": 39,
   "metadata": {},
   "outputs": [
    {
     "name": "stderr",
     "output_type": "stream",
     "text": [
      "C:\\Users\\abdul\\AppData\\Local\\Temp\\ipykernel_19708\\946905915.py:5: SettingWithCopyWarning: \n",
      "A value is trying to be set on a copy of a slice from a DataFrame.\n",
      "Try using .loc[row_indexer,col_indexer] = value instead\n",
      "\n",
      "See the caveats in the documentation: https://pandas.pydata.org/pandas-docs/stable/user_guide/indexing.html#returning-a-view-versus-a-copy\n",
      "  valid['Predictions'] = predictions\n"
     ]
    },
    {
     "data": {
      "image/png": "[encoded data removed]",
      "text/plain": [
       "<Figure size 1600x600 with 1 Axes>"
      ]
     },
     "metadata": {},
     "output_type": "display_data"
    }
   ],
   "source": [
    "# Plot the data\n",
    "import matplotlib.pyplot as plt\n",
    "train = data[:training_data_len]\n",
    "valid = data[training_data_len:]\n",
    "valid['Predictions'] = predictions\n",
    "# Visualize the data\n",
    "plt.figure(figsize=(16,6))\n",
    "plt.title('Model')\n",
    "plt.xlabel('Date', fontsize=18)\n",
    "plt.ylabel('Close Price USD ($)', fontsize=18)\n",
    "plt.plot(train['Close'])\n",
    "plt.plot(valid[['Close', 'Predictions']])\n",
    "plt.legend(['Train', 'Val', 'Predictions'], loc='lower right')\n",
    "plt.show()"
   ]
  },
  {
   "cell_type": "code",
   "execution_count": 49,
   "metadata": {},
   "outputs": [
    {
     "name": "stderr",
     "output_type": "stream",
     "text": [
      "[*********************100%***********************]  1 of 1 completed\n"
     ]
    },
    {
     "data": {
      "text/plain": [
       "(60, 5)"
      ]
     },
     "execution_count": 49,
     "metadata": {},
     "output_type": "execute_result"
    }
   ],
   "source": [
    "test = yf.download('ANHYT.IS', start='2025-01-03', end=datetime.now())\n",
    "\n",
    "\n",
    "test.shape"
   ]
  },
  {
   "cell_type": "code",
   "execution_count": 50,
   "metadata": {},
   "outputs": [],
   "source": [
    "testdata = test[['Close']]\n",
    "# Convert the dataframe to a numpy array"
   ]
  },
  {
   "cell_type": "code",
   "execution_count": 53,
   "metadata": {},
   "outputs": [
    {
     "data": {
      "text/plain": [
       "(60, 1)"
      ]
     },
     "execution_count": 53,
     "metadata": {},
     "output_type": "execute_result"
    }
   ],
   "source": [
    "testdata.shape"
   ]
  },
  {
   "cell_type": "code",
   "execution_count": 54,
   "metadata": {},
   "outputs": [
    {
     "name": "stdout",
     "output_type": "stream",
     "text": [
      "\u001b[1m1/1\u001b[0m \u001b[32m━━━━━━━━━━━━━━━━━━━━\u001b[0m\u001b[37m\u001b[0m \u001b[1m0s\u001b[0m 349ms/step\n",
      "Modelin Tahmin Ettiği Fiyat: 94.46461486816406\n"
     ]
    }
   ],
   "source": [
    "\n",
    "\n",
    "testdata1 = testdata.values\n",
    "\n",
    "scaled_test_data = scaler.fit_transform(testdata1)\n",
    "test1 = np.reshape(scaled_test_data, (scaled_test_data.shape[0], scaled_test_data.shape[1], 1))\n",
    "testarray = []\n",
    "testarray.append(test1)\n",
    "testarray=np.array(testarray)\n",
    "testarray = np.reshape(testarray, (testarray.shape[0], testarray.shape[1], 1))\n",
    "test_predictions = model.predict(testarray)\n",
    "test_predictions = scaler.inverse_transform(test_predictions)\n",
    "print(f\"Modelin Tahmin Ettiği Fiyat: {test_predictions[0][0]}\")\n"
   ]
  }
 ],
 "metadata": {
  "kernelspec": {
   "display_name": "base",
   "language": "python",
   "name": "python3"
  },
  "language_info": {
   "codemirror_mode": {
    "name": "ipython",
    "version": 3
   },
   "file_extension": ".py",
   "mimetype": "text/x-python",
   "name": "python",
   "nbconvert_exporter": "python",
   "pygments_lexer": "ipython3",
   "version": "3.12.4"
  }
 },
 "nbformat": 4,
 "nbformat_minor": 2
}
